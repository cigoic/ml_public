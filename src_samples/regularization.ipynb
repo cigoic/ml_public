{
 "cells": [
  {
   "cell_type": "markdown",
   "metadata": {},
   "source": [
    "# Regularization\n",
    "\n",
    "is a techique to structure the parameters in a form you prefer, often to solve **overfitting** problem.\n",
    "\n",
    "為了影響演算法產生一組係數很小的向量 w, 我們加入一個常數、非負的惩罰項 λ.\n",
    "\n",
    "$Cost(X, Y) = Loss(X, Y) + λ|w|$\n",
    "\n",
    "如此一來，回歸演算法求取最小 cost 時，會因為 λ（大）而求得一組(小)向量 w.\n",
    "\n",
    "* 一般常用 L1, L2 norm"
   ]
  },
  {
   "cell_type": "code",
   "execution_count": 1,
   "metadata": {},
   "outputs": [
    {
     "name": "stderr",
     "output_type": "stream",
     "text": [
      "/usr/local/miniconda3/lib/python3.6/site-packages/h5py/__init__.py:36: FutureWarning: Conversion of the second argument of issubdtype from `float` to `np.floating` is deprecated. In future, it will be treated as `np.float64 == np.dtype(float).type`.\n",
      "  from ._conv import register_converters as _register_converters\n"
     ]
    }
   ],
   "source": [
    "import tensorflow as tf\n",
    "import numpy as np\n",
    "import matplotlib.pyplot as plt\n",
    "%matplotlib inline\n",
    "\n",
    "np.random.seed(100)\n",
    "\n",
    "learning_rate = 0.001\n",
    "training_epochs = 1000\n",
    "reg_lambda = 0."
   ]
  },
  {
   "cell_type": "code",
   "execution_count": 2,
   "metadata": {},
   "outputs": [],
   "source": [
    "# 首先必須先將資料分成兩份： train, test\n",
    "\n",
    "def split_dataset(x, y, ratio):\n",
    "    lst_idx = np.arange(x.size)    # np.arange(5) => array([0, 1, 2, 3, 4])\n",
    "    np.random.shuffle(lst_idx)    # give us a shuffled list: array([2, 0, 3, 4, 1])\n",
    "    num_train = int(ratio * x.size)\n",
    "    \n",
    "    x_train = x[lst_idx[0:num_train]]\n",
    "    x_test = x[lst_idx[num_train:x.size]]\n",
    "    \n",
    "    y_train = y[lst_idx[0:num_train]]\n",
    "    y_test = y[lst_idx[num_train:x.size]]\n",
    "    return x_train, x_test, y_train, y_test\n"
   ]
  },
  {
   "cell_type": "code",
   "execution_count": 3,
   "metadata": {},
   "outputs": [
    {
     "data": {
      "text/plain": [
       "<matplotlib.collections.PathCollection at 0x120785e48>"
      ]
     },
     "execution_count": 3,
     "metadata": {},
     "output_type": "execute_result"
    },
    {
     "data": {
      "image/png": "[encoded data removed]",
      "text/plain": [
       "<Figure size 432x288 with 1 Axes>"
      ]
     },
     "metadata": {},
     "output_type": "display_data"
    }
   ],
   "source": [
    "x_data = np.linspace(-1, 1, 100)\n",
    "\n",
    "num_coeffs = 9\n",
    "y_data_params = [0.] * num_coeffs\n",
    "y_data_params[2] = 1\n",
    "y_data = 0\n",
    "\n",
    "for i in range(num_coeffs):\n",
    "        y_data += y_data_params[i] * np.power(x_data, i)\n",
    "\n",
    "y_data += np.random.randn(*x_data.shape) * 0.3    # y = x^2\n",
    "\n",
    "plt.scatter(x_data, y_data)"
   ]
  },
  {
   "cell_type": "code",
   "execution_count": 4,
   "metadata": {},
   "outputs": [
    {
     "data": {
      "text/plain": [
       "((70,), (30,), (70,), (30,))"
      ]
     },
     "execution_count": 4,
     "metadata": {},
     "output_type": "execute_result"
    }
   ],
   "source": [
    "(x_train, x_test, y_train, y_test) = split_dataset(x_data, y_data, 0.7)\n",
    "x_train.shape, x_test.shape, y_train.shape, y_test.shape"
   ]
  },
  {
   "cell_type": "code",
   "execution_count": 7,
   "metadata": {},
   "outputs": [],
   "source": [
    "X = tf.placeholder(\"float\")\n",
    "Y = tf.placeholder(\"float\")\n",
    "\n",
    "def model(X, w):\n",
    "    terms = []\n",
    "    for i in range(num_coeffs):\n",
    "        term = tf.multiply(w[i], tf.pow(X, i))\n",
    "        terms.append(term)\n",
    "    return tf.add_n(terms)"
   ]
  },
  {
   "cell_type": "code",
   "execution_count": 8,
   "metadata": {},
   "outputs": [],
   "source": [
    "w = tf.Variable([0.] * num_coeffs, name=\"parameters\")\n",
    "y_model = model(X, w)\n",
    "cost = tf.div(tf.add(tf.reduce_sum(tf.square(Y-y_model)),\n",
    "                     tf.multiply(reg_lambda, tf.reduce_sum(tf.square(w)))),\n",
    "              2*x_train.size)"
   ]
  },
  {
   "cell_type": "code",
   "execution_count": 9,
   "metadata": {},
   "outputs": [],
   "source": [
    "train_op = tf.train.GradientDescentOptimizer(learning_rate).minimize(cost)"
   ]
  },
  {
   "cell_type": "code",
   "execution_count": 10,
   "metadata": {},
   "outputs": [],
   "source": [
    "sess = tf.Session()\n",
    "init = tf.global_variables_initializer()\n",
    "sess.run(init)"
   ]
  },
  {
   "cell_type": "code",
   "execution_count": 18,
   "metadata": {},
   "outputs": [
    {
     "name": "stdout",
     "output_type": "stream",
     "text": [
      "reg lambda 0.0\n",
      "final cost 0.020922456\n",
      "reg lambda 0.010101010101010102\n",
      "final cost 0.020885803\n",
      "reg lambda 0.020202020202020204\n",
      "final cost 0.020851316\n",
      "reg lambda 0.030303030303030304\n",
      "final cost 0.020818999\n",
      "reg lambda 0.04040404040404041\n",
      "final cost 0.020788565\n",
      "reg lambda 0.05050505050505051\n",
      "final cost 0.020760065\n",
      "reg lambda 0.06060606060606061\n",
      "final cost 0.020733278\n",
      "reg lambda 0.07070707070707072\n",
      "final cost 0.020708177\n",
      "reg lambda 0.08080808080808081\n",
      "final cost 0.020684777\n",
      "reg lambda 0.09090909090909091\n",
      "final cost 0.020662878\n",
      "reg lambda 0.10101010101010102\n",
      "final cost 0.020642487\n",
      "reg lambda 0.11111111111111112\n",
      "final cost 0.020623602\n",
      "reg lambda 0.12121212121212122\n",
      "final cost 0.020606035\n",
      "reg lambda 0.13131313131313133\n",
      "final cost 0.020589782\n",
      "reg lambda 0.14141414141414144\n",
      "final cost 0.020574965\n",
      "reg lambda 0.15151515151515152\n",
      "final cost 0.020561328\n",
      "reg lambda 0.16161616161616163\n",
      "final cost 0.020548847\n",
      "reg lambda 0.17171717171717174\n",
      "final cost 0.020537553\n",
      "reg lambda 0.18181818181818182\n",
      "final cost 0.020527437\n",
      "reg lambda 0.19191919191919193\n",
      "final cost 0.020518344\n",
      "reg lambda 0.20202020202020204\n",
      "final cost 0.02051029\n",
      "reg lambda 0.21212121212121213\n",
      "final cost 0.020503279\n",
      "reg lambda 0.22222222222222224\n",
      "final cost 0.020497285\n",
      "reg lambda 0.23232323232323235\n",
      "final cost 0.020492181\n",
      "reg lambda 0.24242424242424243\n",
      "final cost 0.020487975\n",
      "reg lambda 0.25252525252525254\n",
      "final cost 0.020484626\n",
      "reg lambda 0.26262626262626265\n",
      "final cost 0.020482212\n",
      "reg lambda 0.27272727272727276\n",
      "final cost 0.020480605\n",
      "reg lambda 0.2828282828282829\n",
      "final cost 0.02047971\n",
      "reg lambda 0.29292929292929293\n",
      "final cost 0.020479577\n",
      "reg lambda 0.30303030303030304\n",
      "final cost 0.020480225\n",
      "reg lambda 0.31313131313131315\n",
      "final cost 0.020481605\n",
      "reg lambda 0.32323232323232326\n",
      "final cost 0.020483632\n",
      "reg lambda 0.33333333333333337\n",
      "final cost 0.020486273\n",
      "reg lambda 0.3434343434343435\n",
      "final cost 0.020489534\n",
      "reg lambda 0.3535353535353536\n",
      "final cost 0.020493476\n",
      "reg lambda 0.36363636363636365\n",
      "final cost 0.020498004\n",
      "reg lambda 0.37373737373737376\n",
      "final cost 0.02050307\n",
      "reg lambda 0.38383838383838387\n",
      "final cost 0.020508606\n",
      "reg lambda 0.393939393939394\n",
      "final cost 0.020514706\n",
      "reg lambda 0.4040404040404041\n",
      "final cost 0.020521339\n",
      "reg lambda 0.4141414141414142\n",
      "final cost 0.020528447\n",
      "reg lambda 0.42424242424242425\n",
      "final cost 0.020536\n",
      "reg lambda 0.43434343434343436\n",
      "final cost 0.020543978\n",
      "reg lambda 0.4444444444444445\n",
      "final cost 0.020552326\n",
      "reg lambda 0.4545454545454546\n",
      "final cost 0.02056113\n",
      "reg lambda 0.4646464646464647\n",
      "final cost 0.02057032\n",
      "reg lambda 0.4747474747474748\n",
      "final cost 0.020579966\n",
      "reg lambda 0.48484848484848486\n",
      "final cost 0.020589916\n",
      "reg lambda 0.494949494949495\n",
      "final cost 0.020600094\n",
      "reg lambda 0.5050505050505051\n",
      "final cost 0.020610709\n",
      "reg lambda 0.5151515151515152\n",
      "final cost 0.020621555\n",
      "reg lambda 0.5252525252525253\n",
      "final cost 0.020632783\n",
      "reg lambda 0.5353535353535354\n",
      "final cost 0.020644274\n",
      "reg lambda 0.5454545454545455\n",
      "final cost 0.020655997\n",
      "reg lambda 0.5555555555555556\n",
      "final cost 0.020668007\n",
      "reg lambda 0.5656565656565657\n",
      "final cost 0.020680135\n",
      "reg lambda 0.5757575757575758\n",
      "final cost 0.02069262\n",
      "reg lambda 0.5858585858585859\n",
      "final cost 0.02070527\n",
      "reg lambda 0.595959595959596\n",
      "final cost 0.020718226\n",
      "reg lambda 0.6060606060606061\n",
      "final cost 0.020731296\n",
      "reg lambda 0.6161616161616162\n",
      "final cost 0.020744564\n",
      "reg lambda 0.6262626262626263\n",
      "final cost 0.020757973\n",
      "reg lambda 0.6363636363636365\n",
      "final cost 0.020771565\n",
      "reg lambda 0.6464646464646465\n",
      "final cost 0.020785283\n",
      "reg lambda 0.6565656565656566\n",
      "final cost 0.020799192\n",
      "reg lambda 0.6666666666666667\n",
      "final cost 0.020813275\n",
      "reg lambda 0.6767676767676768\n",
      "final cost 0.02082747\n",
      "reg lambda 0.686868686868687\n",
      "final cost 0.020841753\n",
      "reg lambda 0.696969696969697\n",
      "final cost 0.020856153\n",
      "reg lambda 0.7070707070707072\n",
      "final cost 0.02087063\n",
      "reg lambda 0.7171717171717172\n",
      "final cost 0.020885201\n",
      "reg lambda 0.7272727272727273\n",
      "final cost 0.020899843\n",
      "reg lambda 0.7373737373737375\n",
      "final cost 0.020914618\n",
      "reg lambda 0.7474747474747475\n",
      "final cost 0.020929435\n",
      "reg lambda 0.7575757575757577\n",
      "final cost 0.020944389\n",
      "reg lambda 0.7676767676767677\n",
      "final cost 0.020959307\n",
      "reg lambda 0.7777777777777778\n",
      "final cost 0.020974299\n",
      "reg lambda 0.787878787878788\n",
      "final cost 0.020989327\n",
      "reg lambda 0.797979797979798\n",
      "final cost 0.021004362\n",
      "reg lambda 0.8080808080808082\n",
      "final cost 0.02101947\n",
      "reg lambda 0.8181818181818182\n",
      "final cost 0.02103459\n",
      "reg lambda 0.8282828282828284\n",
      "final cost 0.02104984\n",
      "reg lambda 0.8383838383838385\n",
      "final cost 0.021065047\n",
      "reg lambda 0.8484848484848485\n",
      "final cost 0.021080244\n",
      "reg lambda 0.8585858585858587\n",
      "final cost 0.021095483\n",
      "reg lambda 0.8686868686868687\n",
      "final cost 0.021110693\n",
      "reg lambda 0.8787878787878789\n",
      "final cost 0.02112594\n",
      "reg lambda 0.888888888888889\n",
      "final cost 0.021141155\n",
      "reg lambda 0.8989898989898991\n",
      "final cost 0.021156343\n",
      "reg lambda 0.9090909090909092\n",
      "final cost 0.02117154\n",
      "reg lambda 0.9191919191919192\n",
      "final cost 0.021186737\n",
      "reg lambda 0.9292929292929294\n",
      "final cost 0.021201966\n",
      "reg lambda 0.9393939393939394\n",
      "final cost 0.02121716\n",
      "reg lambda 0.9494949494949496\n",
      "final cost 0.021232298\n",
      "reg lambda 0.9595959595959597\n",
      "final cost 0.02124742\n",
      "reg lambda 0.9696969696969697\n",
      "final cost 0.021262502\n",
      "reg lambda 0.9797979797979799\n",
      "final cost 0.021277526\n",
      "reg lambda 0.98989898989899\n",
      "final cost 0.021292504\n",
      "reg lambda 1.0\n",
      "final cost 0.021307413\n"
     ]
    }
   ],
   "source": [
    "for reg_lambda in np.linspace(0,1,100):\n",
    "    for epoch in range(training_epochs):\n",
    "          sess.run(train_op, feed_dict={X: x_train, Y: y_train})\n",
    "    final_cost = sess.run(cost, feed_dict={X: x_test, Y:y_test})\n",
    "    print('reg lambda', reg_lambda)\n",
    "    print('final cost', final_cost)\n",
    "    \n",
    "    # plot\n",
    "#     plt.scatter(x_data, y_data)\n",
    "#     trY2 = 0\n",
    "    \n",
    "#     w_val = sess.run(w)\n",
    "#     for i in range(num_coeffs):\n",
    "#         trY2 += w_val[i] * np.power(x_train, i)\n",
    "\n",
    "#     plt.plot(x_train, trY2, 'r')\n",
    "#     plt.draw()\n",
    "#     plt.pause(0.0001)\n",
    "#     plt.clf() "
   ]
  },
  {
   "cell_type": "code",
   "execution_count": 19,
   "metadata": {},
   "outputs": [],
   "source": [
    "sess.close()"
   ]
  },
  {
   "cell_type": "code",
   "execution_count": null,
   "metadata": {},
   "outputs": [],
   "source": [
    "\n",
    "\n"
   ]
  },
  {
   "cell_type": "code",
   "execution_count": null,
   "metadata": {},
   "outputs": [],
   "source": []
  }
 ],
 "metadata": {
  "kernelspec": {
   "display_name": "Python 3",
   "language": "python",
   "name": "python3"
  },
  "language_info": {
   "codemirror_mode": {
    "name": "ipython",
    "version": 3
   },
   "file_extension": ".py",
   "mimetype": "text/x-python",
   "name": "python",
   "nbconvert_exporter": "python",
   "pygments_lexer": "ipython3",
   "version": "3.6.3"
  }
 },
 "nbformat": 4,
 "nbformat_minor": 2
}
