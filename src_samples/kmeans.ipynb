{
 "cells": [
  {
   "cell_type": "markdown",
   "metadata": {},
   "source": [
    "# K-means\n",
    "\n",
    "* One of the oldest yet most robust ways to cluster data.\n",
    "* k 個群, 正確數量是 case by case\n",
    "* 如何決定 k 值？==> 分別指定不同的 k, 然後經由 cost function, 看造成群之間距離最佳的那個最小 k 值，即為所求。\n",
    "* K-mean 把每筆資料當作空間上的每個點，因此每個特徵向量僅是 1-D 維度。\n",
    "* 群中所有點的中心點即為「centroid」, K-means 會指定 nondescript labels, 如 cluster 1, cluster 2...等\n",
    "* 起始時隨機猜一個中心點，然後將任何靠近中心點的點，歸類至同一個群。\n",
    "* 演算法會兩種狀況下停止：一為收斂，二為已企圖嘗試了最大次數\n",
    "* 演算法的兩個核心工作：\n",
    "    1. Assignment - 將每個點歸類至最近的中心點。\n",
    "    2. Recentering - 根據群裡的各個點，重新計算其中心點位置。"
   ]
  },
  {
   "cell_type": "code",
   "execution_count": 1,
   "metadata": {},
   "outputs": [
    {
     "name": "stderr",
     "output_type": "stream",
     "text": [
      "/usr/local/miniconda3/lib/python3.6/site-packages/h5py/__init__.py:36: FutureWarning: Conversion of the second argument of issubdtype from `float` to `np.floating` is deprecated. In future, it will be treated as `np.float64 == np.dtype(float).type`.\n",
      "  from ._conv import register_converters as _register_converters\n"
     ]
    }
   ],
   "source": [
    "import tensorflow as tf"
   ]
  },
  {
   "cell_type": "code",
   "execution_count": null,
   "metadata": {},
   "outputs": [],
   "source": [
    "k = 2  # number of clusters\n",
    "max_iter = 100\n",
    "\n",
    "def init_cluster_centroids(x, k):\n",
    "    return x[0:k, :]\n",
    "\n",
    "def assign_cluster(x, centroids):\n",
    "    expanded_vectors = tf.expand_dims(x, 0)\n",
    "    expanded_centroids = tf.expand_dims(centroids, 1)\n",
    "    print(\"exvec:\", expanded_vectors)\n",
    "    print(\"cent\", expanded_centroids)\n",
    "    distances = tf.reduce_sum(tf.square(tf.subtract(expanded_vectors, expanded_centroids)), 2)\n",
    "    mins = tf.argmin(distances, 0)\n",
    "    return mins\n",
    "\n",
    "def recompute_centroids(x, y):\n",
    "    sums = tf.unsorted_segment_sum(x, y, k)\n",
    "    counts = tf.unsorted_segment_sum(tf.ones_like(x), y, k)\n",
    "    return sums / counts\n",
    "\n",
    "with tf.Session() as sess:\n",
    "    sess.run(tf.global_variables_initializer())\n",
    "    X = get_dataset(sess)\n",
    "    centroids = init_cluster_centroids(X, k)\n",
    "    i, converged = 0, False\n",
    "    while not converged and i < max_iter:\n",
    "        i+= 1\n",
    "        Y = assign_cluster(X, centroids)\n",
    "        centroids = sess.run(recompute_centroids(X, Y))\n",
    "    print(centroids)"
   ]
  }
 ],
 "metadata": {
  "kernelspec": {
   "display_name": "Python 3",
   "language": "python",
   "name": "python3"
  },
  "language_info": {
   "codemirror_mode": {
    "name": "ipython",
    "version": 3
   },
   "file_extension": ".py",
   "mimetype": "text/x-python",
   "name": "python",
   "nbconvert_exporter": "python",
   "pygments_lexer": "ipython3",
   "version": "3.6.3"
  }
 },
 "nbformat": 4,
 "nbformat_minor": 2
}
