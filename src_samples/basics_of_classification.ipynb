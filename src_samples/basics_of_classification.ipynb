{
 "cells": [
  {
   "cell_type": "markdown",
   "metadata": {},
   "source": [
    "# Classification\n",
    "\n",
    "* Writing formal notation\n",
    "* Using logistic regression\n",
    "* Working w/ a confusion matrix\n",
    "* Understanding multiclass classification"
   ]
  },
  {
   "cell_type": "markdown",
   "metadata": {},
   "source": [
    "###### Regreesion - is about fitting a curve to data.\n",
    "The best-fit curve is a function that takes as input a data item and assigns it a number.\n",
    "\n",
    "* Dealing w/ continuous output.\n",
    "* Input can be discrete or continuous value.\n",
    "\n",
    "###### Classification - is about creating a machine-learning model that instead assigns discrete laabels to inputs.\n",
    "\n",
    "* Supervised-LRN for dealing with discrete output(class).\n",
    "* Binary classifier - output only two class labels.\n",
    "* Multicalss classifier - ouput more than two class labels.\n",
    "* Logistic Regression - a much better classifier than Linear regression.\n",
    "* Softmax Regression - a multiclass classification. \n",
    "    * It's a natural generalization of logistic regression. \n",
    "    * Applying SOFTMAX function at the last step.\n",
    "\n",
    "|類型|優點|缺點|\n",
    "|---|---|---|\n",
    "|Linear Regression | 實現簡單| 不保證有效。|\n",
    "||| 只支援二元標籤。|\n",
    "|Logistic Regression | 1. 高精準。| 僅支援二元標籤。|\n",
    "|| 2. 彈性、可加入 Regularize 項調整模型。||\n",
    "|| 3. 用機率當作模型輸出回應||\n",
    "|| 4. 對新資料而言，更新模型方便。||\n",
    "|Softmax Regression | 支援多元標籤。| 實現較為複雜。|\n",
    "|| 用機率當作模型輸出回應。||"
   ]
  },
  {
   "cell_type": "markdown",
   "metadata": {},
   "source": [
    "### Measuring Performance of Classification Problems\n",
    "#### Accuracy \n",
    "- for Binary Classifier\n",
    "\n",
    "    $ accuracy = \\frac{\\#correct}{\\#total} $\n",
    "\n",
    "#### Precision and Recall\n",
    "- Confusion Matrix\n",
    "\n",
    "|||Predicted|Predicted|\n",
    "|---|---|---|---|\n",
    "|||√|X|\n",
    "|Actual|√|TP|FN|\n",
    "|Actual|X|FP|TN|\n",
    "\n",
    "|||\n",
    "|---|---|\n",
    "| True Positives (TP) | correctly predicted |\n",
    "| False Positives (FP) | incorrectly predicted |\n",
    "| Fasle Negative (FN) | incorrectly predicted (predict a positive value as negative) |\n",
    "| True Negative (TN) | correctly predicted a negative value. |\n",
    "\n",
    "\n",
    "* Precision \n",
    "    * A score of how likely a positive prediction is to BE CORRECT.\n",
    "    * $precision = \\frac{TP}{TP+FP}$ \n",
    "    * TP+FP is the total number of all positives.\n",
    "    * A measure of the prediciont the slgorithm got right.\n",
    "    * 記法：double P(recision)\n",
    "* Recall\n",
    "    * The ratio of true positive found. It's a score of how many true positive WERE successfullt PREDICTED.\n",
    "    * $recall = \\frac{TP}{TP+FN}$\n",
    "    * A measure of the right things the algorithm identified in the final set."
   ]
  },
  {
   "cell_type": "markdown",
   "metadata": {},
   "source": [
    "例：\n",
    "\n",
    "|||Predicted|Predicted|\n",
    "|---|---|---|---|\n",
    "|||貓|狗|\n",
    "|Actual|貓|TP:30|FN:20|\n",
    "|Actual|狗|FP:10|TN:40|\n",
    "\n",
    "問： precision, recall 分別是多少？\n",
    "答：\n",
    "\n",
    "$precision = \\frac{30}{30+10} = 3/4$ \n",
    "\n",
    "$recall = \\frac{30}{30+20} = 3/5$\n",
    "\n",
    "$ accuracy = \\frac{30+40}{100} = 70\\%$"
   ]
  },
  {
   "cell_type": "markdown",
   "metadata": {},
   "source": [
    "### Receiver Operating Characteristic Curve (ROC Curve)\n",
    "\n",
    "- For Binary Classifiers\n",
    "- A plot that lets you compare the trade-off between false positives and true positives.\n",
    "- X 軸衡量 FP\n",
    "- Y 軸衡量 TP\n",
    "- 衡量多種分類器時，看他們的 ROC 曲線，曲線間不相交者好\n",
    "- 曲線越高於基本線者，越好\n",
    "- 如果 Area-under-curve (AUC) 高於 0.9 者，表示是相當好的分類器！\n",
    "- 隨機亂猜的分類器，其 AUC 約等於 0.5"
   ]
  },
  {
   "cell_type": "markdown",
   "metadata": {},
   "source": [
    "### Linear Regression for Classification\n",
    "\n",
    "* 缺點：對於 outliers 非常敏感！因此不是好的分類器。"
   ]
  },
  {
   "cell_type": "code",
   "execution_count": 1,
   "metadata": {},
   "outputs": [
    {
     "name": "stderr",
     "output_type": "stream",
     "text": [
      "/usr/local/miniconda3/lib/python3.6/site-packages/h5py/__init__.py:36: FutureWarning: Conversion of the second argument of issubdtype from `float` to `np.floating` is deprecated. In future, it will be treated as `np.float64 == np.dtype(float).type`.\n",
      "  from ._conv import register_converters as _register_converters\n"
     ]
    }
   ],
   "source": [
    "import tensorflow as tf\n",
    "import numpy as np\n",
    "import matplotlib.pyplot as plt\n",
    "%matplotlib inline"
   ]
  },
  {
   "cell_type": "code",
   "execution_count": 2,
   "metadata": {},
   "outputs": [
    {
     "data": {
      "text/plain": [
       "<matplotlib.collections.PathCollection at 0x1207885c0>"
      ]
     },
     "execution_count": 2,
     "metadata": {},
     "output_type": "execute_result"
    },
    {
     "data": {
      "image/png": "[encoded data removed]",
      "text/plain": [
       "<Figure size 432x288 with 1 Axes>"
      ]
     },
     "metadata": {},
     "output_type": "display_data"
    }
   ],
   "source": [
    "x_zeros = np.random.normal(5, 1, 10)\n",
    "\n",
    "# Special case: OUTLIER will result this model FAIL\n",
    "# x_zeros = np.append(np.random.normal(5, 1, 9), 20)\n",
    "\n",
    "x_ones = np.random.normal(2,1, 10)\n",
    "x_data = np.append(x_zeros, x_ones)\n",
    "labels = [0.] * len(x_zeros) + [1.] * len(x_ones)\n",
    "\n",
    "plt.scatter(x_data, labels)"
   ]
  },
  {
   "cell_type": "code",
   "execution_count": 3,
   "metadata": {},
   "outputs": [],
   "source": [
    "learning_rate = 0.001\n",
    "training_epochs = 1000\n",
    "\n",
    "X = tf.placeholder(tf.float32)\n",
    "Y = tf.placeholder(tf.float32)\n",
    "\n",
    "# y = w1 * x + w0\n",
    "def model(X, w):\n",
    "    return tf.add(tf.multiply(w[1], tf.pow(X,1)),\n",
    "                 tf.multiply(w[0], tf.pow(X,0)))\n",
    "\n",
    "w = tf.Variable([0., 0.], name=\"parameters\")\n",
    "y_model = model(X, w)\n",
    "cost = tf.reduce_sum(tf.square(Y - y_model))\n",
    "\n",
    "train_op = tf.train.GradientDescentOptimizer(learning_rate).minimize(cost)"
   ]
  },
  {
   "cell_type": "code",
   "execution_count": 4,
   "metadata": {},
   "outputs": [],
   "source": [
    "  sess = tf.Session()\n",
    "  init = tf.global_variables_initializer()\n",
    "  sess.run(init)"
   ]
  },
  {
   "cell_type": "code",
   "execution_count": 5,
   "metadata": {},
   "outputs": [
    {
     "name": "stdout",
     "output_type": "stream",
     "text": [
      "0 8.757183\n",
      "100 2.649356\n",
      "200 1.5980402\n",
      "300 1.4120932\n",
      "400 1.3792045\n",
      "500 1.3733877\n",
      "600 1.3723586\n",
      "700 1.3721766\n",
      "800 1.3721447\n",
      "900 1.3721387\n",
      "learned parameters [ 1.2864326  -0.22884956]\n"
     ]
    }
   ],
   "source": [
    "for epoch in range(training_epochs):\n",
    "    sess.run(train_op, feed_dict={X: x_data, Y: labels})\n",
    "    current_cost = sess.run(cost, feed_dict={X: x_data, Y: labels})\n",
    "    if epoch % 100 == 0:\n",
    "        print(epoch, current_cost)\n",
    "\n",
    "w_val = sess.run(w)\n",
    "print('learned parameters', w_val)\n"
   ]
  },
  {
   "cell_type": "code",
   "execution_count": 20,
   "metadata": {},
   "outputs": [
    {
     "data": {
      "image/png": "[encoded data removed]",
      "text/plain": [
       "<Figure size 432x288 with 1 Axes>"
      ]
     },
     "metadata": {},
     "output_type": "display_data"
    }
   ],
   "source": [
    "plt.scatter(x_data, labels)\n",
    "\n",
    "all_xs = np.linspace(0, 10, 100)\n",
    "plt.plot(all_xs, all_xs*w_val[1] + w_val[0])\n",
    "plt.show()"
   ]
  },
  {
   "cell_type": "code",
   "execution_count": 7,
   "metadata": {},
   "outputs": [
    {
     "name": "stdout",
     "output_type": "stream",
     "text": [
      "acc: 0.95\n"
     ]
    }
   ],
   "source": [
    "# Measuring accuracy\n",
    "\n",
    "# a positive label - when model's response is > 0.5.\n",
    "correct_prediction = tf.equal( Y, tf.to_float(tf.greater(y_model, 0.5)))\n",
    "accuracy = tf.reduce_mean(tf.to_float(correct_prediction))\n",
    "\n",
    "print(\"acc:\", sess.run(accuracy, feed_dict={X: x_data, Y: labels}))"
   ]
  },
  {
   "cell_type": "code",
   "execution_count": 8,
   "metadata": {},
   "outputs": [],
   "source": [
    "sess.close()"
   ]
  },
  {
   "cell_type": "code",
   "execution_count": null,
   "metadata": {},
   "outputs": [],
   "source": []
  }
 ],
 "metadata": {
  "kernelspec": {
   "display_name": "Python 3",
   "language": "python",
   "name": "python3"
  },
  "language_info": {
   "codemirror_mode": {
    "name": "ipython",
    "version": 3
   },
   "file_extension": ".py",
   "mimetype": "text/x-python",
   "name": "python",
   "nbconvert_exporter": "python",
   "pygments_lexer": "ipython3",
   "version": "3.6.3"
  }
 },
 "nbformat": 4,
 "nbformat_minor": 2
}
