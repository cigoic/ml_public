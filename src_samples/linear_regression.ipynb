{
 "cells": [
  {
   "cell_type": "markdown",
   "metadata": {},
   "source": [
    "* Fitting a line to data points\n",
    "* Fitting arbitrary curves to data points\n",
    "* Testing performance of regression algorithms\n",
    "* Applying regression to real-word data"
   ]
  },
  {
   "cell_type": "markdown",
   "metadata": {},
   "source": [
    "# Regression\n",
    "is a study of **how to best fit a curve to summarize data**.\n",
    "\n",
    "有一函式 f 其中一個輸入有對應的一個/多個輸出(如：y=2x, y=3x)\n",
    "\n",
    "這樣形式的函式集合是我們的模型 M:\n",
    "    \n",
    "    M(w)= {y = wx | w∈R}\n",
    "    \n",
    "找到一組最佳的參數 w* 使得 M(w*) 這條線，能擬合我們的資料分佈，這就是 Regression algorithm 要做的事情。\n",
    "\n",
    "* Input 可以是 離散 或是 連續值\n",
    "* Ouput 必須是 連續值!"
   ]
  },
  {
   "cell_type": "markdown",
   "metadata": {},
   "source": [
    "### Measure the success of LRN algorithm\n",
    "\n",
    "* 須將資料分作「訓練集」和「測試集」\n",
    "* Variance - 擬合曲線起落的好壞程度，表示訓練資料對預測結果的影響(variance 小，敏感度小)。\n",
    "* Bias - 指出擬合曲線距離 ground-truth 有多遠？\n",
    "\n",
    "|Training set|Testing set|Result|術語|Explain|\n",
    "|---|---|---|---|---|\n",
    "|表現優👍|表現差👎|表現差👎| Overfit | LRN algorithm 得出的曲線可以完全擬合資料上的每一點。|\n",
    "|表現差👎|表現差👎|表現差👎| Underfit | 預測未曾見過的測試集資料表現好一些，訓練集資料表現差 |\n",
    "|表現優👍|表現優👍|表現優👍| Ideal | 理想狀況，無論在訓練或是測試集資料上表現都好|"
   ]
  },
  {
   "cell_type": "markdown",
   "metadata": {},
   "source": [
    "## Linear regression"
   ]
  },
  {
   "cell_type": "code",
   "execution_count": 3,
   "metadata": {},
   "outputs": [],
   "source": [
    "import numpy as np\n",
    "import matplotlib.pyplot as plt\n",
    "%matplotlib inline"
   ]
  },
  {
   "cell_type": "code",
   "execution_count": 15,
   "metadata": {},
   "outputs": [
    {
     "data": {
      "text/plain": [
       "<matplotlib.collections.PathCollection at 0x10ff4f400>"
      ]
     },
     "execution_count": 15,
     "metadata": {},
     "output_type": "execute_result"
    },
    {
     "data": {
      "image/png": "[encoded data removed]",
      "text/plain": [
       "<Figure size 432x288 with 1 Axes>"
      ]
     },
     "metadata": {},
     "output_type": "display_data"
    }
   ],
   "source": [
    "x_train = np.linspace(-1, 1, 101)\n",
    "y_train = 2 * x_train + np.random.randn(*x_train.shape) * 0.33\n",
    "\n",
    "plt.scatter(x_train, y_train)"
   ]
  },
  {
   "cell_type": "markdown",
   "metadata": {},
   "source": [
    "上述隨機產生數值點後，我們要透過演算法擬合出一條接近此資料集的線(y = wx)。這意味著我們要計算一個 cost function，找出讓 cost 最小的 w 參數。(透過 model 與 ideal 之間距離最小，來計算)\n",
    "\n",
    "$w^*$= arg $min_w$  cost($Y_{model}, Y_{ideal}$)\n",
    "\n",
    "其中 $Y_{model} = M(w, X)$, \n",
    "\n",
    " 因此 cost($Y_{model}, Y_{ideal}$) \n",
    " \n",
    " = $|Y_{model} - Y_{ideal}|$ \n",
    " \n",
    " = $|M(w, X) - Y_{ideal}|$"
   ]
  },
  {
   "cell_type": "code",
   "execution_count": 1,
   "metadata": {},
   "outputs": [
    {
     "name": "stderr",
     "output_type": "stream",
     "text": [
      "/usr/local/miniconda3/lib/python3.6/site-packages/h5py/__init__.py:36: FutureWarning: Conversion of the second argument of issubdtype from `float` to `np.floating` is deprecated. In future, it will be treated as `np.float64 == np.dtype(float).type`.\n",
      "  from ._conv import register_converters as _register_converters\n"
     ]
    }
   ],
   "source": [
    "import tensorflow as tf\n",
    "import numpy as np\n",
    "import matplotlib.pyplot as plt\n",
    "%matplotlib inline"
   ]
  },
  {
   "cell_type": "code",
   "execution_count": 2,
   "metadata": {},
   "outputs": [],
   "source": [
    "learning_rate = 0.01\n",
    "training_epochs = 100\n",
    "\n",
    "x_train = np.linspace(-1, 1, 101)\n",
    "y_train = 2* x_train + np.random.randn(*x_train.shape) * 0.33"
   ]
  },
  {
   "cell_type": "code",
   "execution_count": 3,
   "metadata": {},
   "outputs": [],
   "source": [
    "X = tf.placeholder(tf.float32)\n",
    "Y = tf.placeholder(tf.float32)\n",
    "\n",
    "def model(X, w):\n",
    "    return tf.multiply(X, w)    # y = w*X\n",
    "\n",
    "w = tf.Variable(0.0, name='weights')\n",
    "\n",
    "y_model = model(X, w)\n",
    "cost = tf.square(Y - y_model)"
   ]
  },
  {
   "cell_type": "code",
   "execution_count": 4,
   "metadata": {},
   "outputs": [],
   "source": [
    "train_op = tf.train.GradientDescentOptimizer(learning_rate).minimize(cost)"
   ]
  },
  {
   "cell_type": "code",
   "execution_count": 5,
   "metadata": {},
   "outputs": [],
   "source": [
    "sess = tf.Session()\n",
    "init = tf.global_variables_initializer()\n",
    "sess.run(init)"
   ]
  },
  {
   "cell_type": "code",
   "execution_count": 6,
   "metadata": {},
   "outputs": [
    {
     "data": {
      "text/plain": [
       "1.9468575"
      ]
     },
     "execution_count": 6,
     "metadata": {},
     "output_type": "execute_result"
    }
   ],
   "source": [
    "for epoch in range(training_epochs):\n",
    "    for x,y in zip(x_train, y_train):\n",
    "        sess.run(train_op, feed_dict={X: x, Y: y})\n",
    "\n",
    "w_star = sess.run(w)  # Get the final w\n",
    "w_star"
   ]
  },
  {
   "cell_type": "code",
   "execution_count": null,
   "metadata": {},
   "outputs": [],
   "source": [
    "sess.close()"
   ]
  },
  {
   "cell_type": "code",
   "execution_count": 9,
   "metadata": {},
   "outputs": [
    {
     "data": {
      "text/plain": [
       "[<matplotlib.lines.Line2D at 0x120b50748>]"
      ]
     },
     "execution_count": 9,
     "metadata": {},
     "output_type": "execute_result"
    },
    {
     "data": {
      "image/png": "[encoded data removed]",
      "text/plain": [
       "<Figure size 432x288 with 1 Axes>"
      ]
     },
     "metadata": {},
     "output_type": "display_data"
    }
   ],
   "source": [
    "plt.scatter(x_train, y_train)\n",
    "y_learned = x_train * w_star\n",
    "plt.plot(x_train, y_learned, 'r')"
   ]
  },
  {
   "cell_type": "markdown",
   "metadata": {},
   "source": [
    "如上圖紅線所示，我們已經使用 Tensorflow 解出 linear regression 問題，得出一條擬合曲線\n",
    "\n",
    "#### 進階：加入 bias 來改進"
   ]
  },
  {
   "cell_type": "code",
   "execution_count": 3,
   "metadata": {},
   "outputs": [
    {
     "name": "stdout",
     "output_type": "stream",
     "text": [
      "1.9190886 0.056671605\n"
     ]
    },
    {
     "data": {
      "text/plain": [
       "[<matplotlib.lines.Line2D at 0x12061e128>]"
      ]
     },
     "execution_count": 3,
     "metadata": {},
     "output_type": "execute_result"
    },
    {
     "data": {
      "image/png": "[encoded data removed]",
      "text/plain": [
       "<Figure size 432x288 with 1 Axes>"
      ]
     },
     "metadata": {},
     "output_type": "display_data"
    }
   ],
   "source": [
    "X = tf.placeholder(tf.float32)\n",
    "Y = tf.placeholder(tf.float32)\n",
    "\n",
    "def model(X, w, b):\n",
    "    return tf.multiply(X, w) + b    ##### y = w*X + bias\n",
    "\n",
    "w = tf.Variable(0.0, name='weights')\n",
    "b = tf.Variable(1.0, name='bias')    ###\n",
    "\n",
    "y_model = model(X, w, b)  #########\n",
    "cost = tf.square(Y - y_model)\n",
    "\n",
    "train_op = tf.train.GradientDescentOptimizer(learning_rate).minimize(cost)\n",
    "\n",
    "sess = tf.Session()\n",
    "init = tf.global_variables_initializer()\n",
    "sess.run(init)\n",
    "\n",
    "for epoch in range(training_epochs):\n",
    "    for x,y in zip(x_train, y_train):\n",
    "        sess.run(train_op, feed_dict={X: x, Y: y})\n",
    "\n",
    "w_star = sess.run(w)  # Get the final w\n",
    "b_star = sess.run(b)   #############\n",
    "print(w_star, b_star)\n",
    "\n",
    "sess.close()\n",
    "\n",
    "plt.scatter(x_train, y_train)\n",
    "y_learned = x_train * w_star\n",
    "plt.plot(x_train, y_learned, 'r')"
   ]
  },
  {
   "cell_type": "code",
   "execution_count": null,
   "metadata": {},
   "outputs": [],
   "source": []
  }
 ],
 "metadata": {
  "kernelspec": {
   "display_name": "Python 3",
   "language": "python",
   "name": "python3"
  },
  "language_info": {
   "codemirror_mode": {
    "name": "ipython",
    "version": 3
   },
   "file_extension": ".py",
   "mimetype": "text/x-python",
   "name": "python",
   "nbconvert_exporter": "python",
   "pygments_lexer": "ipython3",
   "version": "3.6.3"
  }
 },
 "nbformat": 4,
 "nbformat_minor": 2
}
