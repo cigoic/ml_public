{
 "cells": [
  {
   "cell_type": "code",
   "execution_count": 1,
   "metadata": {},
   "outputs": [],
   "source": [
    "import numpy as np"
   ]
  },
  {
   "cell_type": "code",
   "execution_count": null,
   "metadata": {},
   "outputs": [],
   "source": [
    "def roc_curve(true_labels, predicted_probs, n_points=100, pos_class=1):\n",
    "    thr = np.linspace(0,1,n_points)\n",
    "    tpr = np.zeros(n_points)\n",
    "    fpr = np.zeros(n_points)\n",
    "    \n",
    "    pos = true_labels == pos_class\n",
    "    neg = np.logical_not(pos)\n",
    "    n_pos = np.count_nonzero(pos)\n",
    "    n_neg = np.count_nonzero(neg)\n",
    "    \n",
    "    for i,t in enumerate(thr):\n",
    "        tpr[i] = np.count_nonzero(np.logical_and(\n",
    "           predicted_probs >= t, pos)) / n_pos\n",
    "    fpr[i] = np.count_nonzero(np.logical_and(\n",
    "           predicted_probs >= t, neg)) / n_neg\n",
    "    return fpr, tpr, thr"
   ]
  }
 ],
 "metadata": {
  "kernelspec": {
   "display_name": "Python 3",
   "language": "python",
   "name": "python3"
  },
  "language_info": {
   "codemirror_mode": {
    "name": "ipython",
    "version": 3
   },
   "file_extension": ".py",
   "mimetype": "text/x-python",
   "name": "python",
   "nbconvert_exporter": "python",
   "pygments_lexer": "ipython3",
   "version": "3.6.3"
  }
 },
 "nbformat": 4,
 "nbformat_minor": 2
}
