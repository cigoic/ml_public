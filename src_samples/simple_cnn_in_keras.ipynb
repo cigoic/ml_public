{
 "cells": [
  {
   "cell_type": "code",
   "execution_count": null,
   "metadata": {},
   "outputs": [],
   "source": [
    "# REF: https://www.kaggle.com/dansbecker/exercise-modeling-from-scratch"
   ]
  },
  {
   "cell_type": "code",
   "execution_count": 1,
   "metadata": {},
   "outputs": [
    {
     "name": "stderr",
     "output_type": "stream",
     "text": [
      "/usr/local/miniconda3/lib/python3.6/site-packages/h5py/__init__.py:36: FutureWarning: Conversion of the second argument of issubdtype from `float` to `np.floating` is deprecated. In future, it will be treated as `np.float64 == np.dtype(float).type`.\n",
      "  from ._conv import register_converters as _register_converters\n"
     ]
    }
   ],
   "source": [
    "import numpy as np\n",
    "import pandas as pd\n",
    "pd.options.display.max_columns = 12\n",
    "pd.options.display.float_format = '{:.1f}'.format\n",
    "\n",
    "import tensorflow as tf\n",
    "\n",
    "# Disable warnings in Anaconda\n",
    "import warnings\n",
    "warnings.simplefilter('ignore')\n",
    "\n",
    "import matplotlib.pyplot as plt\n",
    "# We will use the Seaborn library\n",
    "import seaborn as sns\n",
    "sns.set()\n",
    "# Graphics in SVG format are more sharp and legible\n",
    "%config InlineBackend.figure_format = 'svg'\n",
    "# Increase the default plot size\n",
    "from pylab import rcParams\n",
    "rcParams['figure.figsize'] = 8, 8\n",
    "\n",
    "# We will display plots right inside Jupyter Notebook\n",
    "%matplotlib inline\n"
   ]
  },
  {
   "cell_type": "code",
   "execution_count": 2,
   "metadata": {},
   "outputs": [],
   "source": [
    "from sklearn.model_selection import train_test_split\n",
    "from tensorflow.keras.models import Sequential\n",
    "from tensorflow.keras.layers import Dense, Flatten, Conv2D, Dropout\n",
    "\n",
    "img_rows, img_cols = 28, 28\n",
    "num_classes = 10"
   ]
  },
  {
   "cell_type": "code",
   "execution_count": 4,
   "metadata": {},
   "outputs": [],
   "source": [
    "# def data_prep(raw):\n",
    "#     out_y = tf.keras.utils.to_categorical(raw.label, num_classes)\n",
    "    \n",
    "#     num_imgs = raw.shape[0]\n",
    "#     x_as_array = raw.values[:, 1:]\n",
    "#     x_shaped_array = x_as_array.reshape(num_images, img_rows, img_cols, 1)\n",
    "#     out_x = x_shaped_array / 255\n",
    "#     return out_x, out_y\n",
    "\n",
    "def prep_data(raw, train_size, val_size):\n",
    "    y = raw[:, 0]\n",
    "    out_y = tf.keras.utils.to_categorical(y, num_classes)\n",
    "    \n",
    "    x = raw[:, 1:]\n",
    "    num_images = raw.shape[0]\n",
    "    out_x = x.reshape(num_images, img_rows, img_cols, 1)\n",
    "    out_x = out_x / 255\n",
    "    return out_x, out_y"
   ]
  },
  {
   "cell_type": "code",
   "execution_count": 8,
   "metadata": {},
   "outputs": [
    {
     "name": "stdout",
     "output_type": "stream",
     "text": [
      "(60000, 28, 28, 1)\n",
      "(60000, 10)\n"
     ]
    }
   ],
   "source": [
    "train_file = \"_db/fashion-mnist_train.csv\"\n",
    "df_train = np.loadtxt(train_file, skiprows=1, delimiter=',')\n",
    "x, y = prep_data(df_train, train_size=50000, val_size=5000)\n",
    "\n",
    "print(x.shape)\n",
    "print(y.shape)"
   ]
  },
  {
   "cell_type": "markdown",
   "metadata": {},
   "source": [
    "###### Specify Model\n",
    "\n",
    "**STEPS:**\n",
    "\n",
    "1. 建立一個 Sequential model. 稱作 fashion_model.\n",
    "\n",
    "2. 加入三個 Conv2D 層至 fashion_model. 讓每層有十二個 filters, 一個 kernel_size of 3 以及一個 relu activation. 需要指定第一層 Conv2D shape. 輸入的 shape 是 (img_rows, img_cols, 1).\n",
    "\n",
    "3. 最後一個 Conv2D 後，加一 Flatten 層\n",
    "\n",
    "4. 接著，加一個有100 神經元的 Dense 層於 Flatten 層之後.\n",
    "\n",
    "5. 最後，加入預測層至 fashion_model. 這是一個 Dense 層，其中第一個參數為 num_classes. 第二個參數為 activation function  (softmax)."
   ]
  },
  {
   "cell_type": "code",
   "execution_count": 10,
   "metadata": {},
   "outputs": [
    {
     "name": "stdout",
     "output_type": "stream",
     "text": [
      "_________________________________________________________________\n",
      "Layer (type)                 Output Shape              Param #   \n",
      "=================================================================\n",
      "conv2d_3 (Conv2D)            (None, 26, 26, 12)        120       \n",
      "_________________________________________________________________\n",
      "conv2d_4 (Conv2D)            (None, 24, 24, 12)        1308      \n",
      "_________________________________________________________________\n",
      "conv2d_5 (Conv2D)            (None, 22, 22, 12)        1308      \n",
      "_________________________________________________________________\n",
      "flatten_1 (Flatten)          (None, 5808)              0         \n",
      "_________________________________________________________________\n",
      "dense_2 (Dense)              (None, 100)               580900    \n",
      "_________________________________________________________________\n",
      "dense_3 (Dense)              (None, 10)                1010      \n",
      "=================================================================\n",
      "Total params: 584,646\n",
      "Trainable params: 584,646\n",
      "Non-trainable params: 0\n",
      "_________________________________________________________________\n"
     ]
    }
   ],
   "source": [
    "fashion_model = Sequential()\n",
    "fashion_model.add(Conv2D(12, \n",
    "                         kernel_size=(3,3),\n",
    "                         activation='relu',\n",
    "                         input_shape=(img_rows, img_cols, 1)))\n",
    "fashion_model.add(Conv2D(12, kernel_size=(3, 3), activation='relu'))\n",
    "fashion_model.add(Conv2D(12, kernel_size=(3, 3), activation='relu'))\n",
    "fashion_model.add(Flatten())\n",
    "fashion_model.add(Dense(100))\n",
    "fashion_model.add(Dense(num_classes, activation='softmax'))\n",
    "\n",
    "fashion_model.summary()"
   ]
  },
  {
   "cell_type": "markdown",
   "metadata": {},
   "source": [
    "# Compile Model\n",
    "\n",
    "Run the command fashion_model.compile. Specify the following arguments:\n",
    "\n",
    "1. loss = keras.losses.categorical_crossentropy\n",
    "\n",
    "2. optimizer = 'adam'\n",
    "\n",
    "3. metrics = ['accuracy']"
   ]
  },
  {
   "cell_type": "code",
   "execution_count": 12,
   "metadata": {},
   "outputs": [],
   "source": [
    "fashion_model.compile(loss=tf.keras.losses.categorical_crossentropy,\n",
    "                     optimizer='adam',\n",
    "                     metrics=['accuracy'])"
   ]
  },
  {
   "cell_type": "markdown",
   "metadata": {},
   "source": [
    "# Fit Model\n",
    "\n",
    "Run the command fashion_model.fit. The arguments you will use are\n",
    "\n",
    "1. The first two are arguments are the data used to fit the model, which are x and y respectively.\n",
    "\n",
    "2. batch_size = 100\n",
    "\n",
    "3. epochs = 4\n",
    "\n",
    "4. validation_split = 0.2\n",
    "\n",
    "When you run this command, you can watch your model start improving. You will see validation accuracies after each epoch."
   ]
  },
  {
   "cell_type": "code",
   "execution_count": 13,
   "metadata": {},
   "outputs": [
    {
     "name": "stdout",
     "output_type": "stream",
     "text": [
      "Train on 48000 samples, validate on 12000 samples\n",
      "Epoch 1/4\n",
      "48000/48000 [==============================] - 44s 913us/step - loss: 0.3851 - acc: 0.8625 - val_loss: 0.3482 - val_acc: 0.8783\n",
      "Epoch 2/4\n",
      "48000/48000 [==============================] - 44s 908us/step - loss: 0.3018 - acc: 0.8900 - val_loss: 0.3045 - val_acc: 0.8924\n",
      "Epoch 3/4\n",
      "48000/48000 [==============================] - 45s 937us/step - loss: 0.2575 - acc: 0.9077 - val_loss: 0.3099 - val_acc: 0.8857\n",
      "Epoch 4/4\n",
      "48000/48000 [==============================] - 44s 909us/step - loss: 0.2311 - acc: 0.9164 - val_loss: 0.2910 - val_acc: 0.8988\n"
     ]
    },
    {
     "data": {
      "text/plain": [
       "<tensorflow.python.keras.callbacks.History at 0x150aacf28>"
      ]
     },
     "execution_count": 13,
     "metadata": {},
     "output_type": "execute_result"
    }
   ],
   "source": [
    "fashion_model.fit(x, y,\n",
    "                 batch_size=100,\n",
    "                 epochs=4,\n",
    "                 validation_split=0.2)"
   ]
  },
  {
   "cell_type": "code",
   "execution_count": null,
   "metadata": {},
   "outputs": [],
   "source": []
  }
 ],
 "metadata": {
  "kernelspec": {
   "display_name": "Python 3",
   "language": "python",
   "name": "python3"
  },
  "language_info": {
   "codemirror_mode": {
    "name": "ipython",
    "version": 3
   },
   "file_extension": ".py",
   "mimetype": "text/x-python",
   "name": "python",
   "nbconvert_exporter": "python",
   "pygments_lexer": "ipython3",
   "version": "3.6.3"
  }
 },
 "nbformat": 4,
 "nbformat_minor": 2
}
