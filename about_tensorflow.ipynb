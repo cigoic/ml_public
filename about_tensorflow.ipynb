{
 "cells": [
  {
   "cell_type": "markdown",
   "metadata": {},
   "source": [
    "# Tensorflow Essentials\n",
    "\n",
    "Architecture defails of TF\n",
    "\n",
    "www.tensorflow.org/ extend/architecture"
   ]
  },
  {
   "cell_type": "markdown",
   "metadata": {},
   "source": [
    "###### Inner product of two vectors (the dot product)"
   ]
  },
  {
   "cell_type": "code",
   "execution_count": 7,
   "metadata": {},
   "outputs": [
    {
     "name": "stdout",
     "output_type": "stream",
     "text": [
      "1 [3]\n",
      "2 [3]\n",
      "3 [2]\n",
      "4 [2]\n",
      "5 [5]\n"
     ]
    },
    {
     "data": {
      "text/plain": [
       "48"
      ]
     },
     "execution_count": 7,
     "metadata": {},
     "output_type": "execute_result"
    }
   ],
   "source": [
    "vec1 = [1,2,3,4,5]\n",
    "vec2 = [[3],[3],[2],[2],[5]]\n",
    "inner_p = 0\n",
    "for v1, v2 in zip(vec1, vec2):\n",
    "    print(v1,v2)\n",
    "    inner_p += v1 * v2[0]\n",
    "\n",
    "inner_p"
   ]
  },
  {
   "cell_type": "code",
   "execution_count": 8,
   "metadata": {},
   "outputs": [
    {
     "data": {
      "text/plain": [
       "array([48])"
      ]
     },
     "execution_count": 8,
     "metadata": {},
     "output_type": "execute_result"
    }
   ],
   "source": [
    "# Inner/Dot product via Numpy\n",
    "\n",
    "import numpy as np\n",
    "\n",
    "inner_p = np.dot(vec1, vec2)\n",
    "inner_p"
   ]
  },
  {
   "cell_type": "code",
   "execution_count": 10,
   "metadata": {},
   "outputs": [],
   "source": [
    "import tensorflow as tf\n",
    "import numpy as np   # Using Numpy matrices in TF"
   ]
  },
  {
   "cell_type": "markdown",
   "metadata": {},
   "source": [
    "###### Tensor\n",
    "* A 2x3x2 tensor is [[[1,2], [3,4], [5,6]], [[7,8], [9,10], [11,12]]]\n",
    "* composed by two 3x2 matrices\n",
    "\n",
    "* This tensor has a rank of 3.\n",
    "* Tensorflow 中所有的操作子(operators)皆設計用於 Tensor 上。\n",
    "* 每個 tensor object 有自己的標籤(name), 維度(shape)"
   ]
  },
  {
   "cell_type": "code",
   "execution_count": 12,
   "metadata": {},
   "outputs": [
    {
     "name": "stdout",
     "output_type": "stream",
     "text": [
      "<class 'list'>\n",
      "<class 'numpy.ndarray'>\n",
      "<class 'tensorflow.python.framework.ops.Tensor'>\n",
      "<class 'tensorflow.python.framework.ops.Tensor'>\n",
      "<class 'tensorflow.python.framework.ops.Tensor'>\n",
      "<class 'tensorflow.python.framework.ops.Tensor'>\n"
     ]
    }
   ],
   "source": [
    "# 表示 tensor 的不同方式：\n",
    "\n",
    "m1 = [[1., 2.], [3., 4.]]\n",
    "m2 = np.array([[1., 2.], [3., 4.]], dtype = np.float32)\n",
    "m3 = tf.constant([[1., 2.], [3., 4.]])\n",
    "\n",
    "print(type(m1))\n",
    "print(type(m2))\n",
    "print(type(m3))\n",
    "\n",
    "t1 = tf.convert_to_tensor(m1, dtype=tf.float32)\n",
    "t2 = tf.convert_to_tensor(m2, dtype=tf.float32)\n",
    "t3 = tf.convert_to_tensor(m3, dtype=tf.float32)\n",
    "\n",
    "print(type(t1))\n",
    "print(type(t2))\n",
    "print(type(t3))"
   ]
  },
  {
   "cell_type": "code",
   "execution_count": 14,
   "metadata": {},
   "outputs": [
    {
     "name": "stdout",
     "output_type": "stream",
     "text": [
      "Tensor(\"mul_1:0\", shape=(500, 500), dtype=float32)\n"
     ]
    }
   ],
   "source": [
    "# 常用 constructions, 如：\n",
    "# tf.zeros(shape)\n",
    "# tf.ones(shape)\n",
    "\n",
    "print(tf.ones([500, 500]) * 0.5)"
   ]
  },
  {
   "cell_type": "code",
   "execution_count": 15,
   "metadata": {},
   "outputs": [
    {
     "name": "stdout",
     "output_type": "stream",
     "text": [
      "Tensor(\"Neg:0\", shape=(1, 2), dtype=int32)\n"
     ]
    }
   ],
   "source": [
    "# operators\n",
    "x = tf.constant([[1,2]])\n",
    "negMatrix = tf.negative(x)\n",
    "print(negMatrix)"
   ]
  },
  {
   "cell_type": "markdown",
   "metadata": {},
   "source": [
    "* We are printing out the definition of the op, not the actual evaluation of the op.\n",
    "\n",
    "### Useful TF operators\n",
    "\n",
    "https://www.tensorflow.org/api_guides/python/math_ops\n",
    "    \n",
    "tf.add(x,y)\n",
    "\n",
    "tf.subtract(x,y)\n",
    "\n",
    "tf.multiply(x,y)\n",
    "\n",
    "tf.pow(x,y)\n",
    "\n",
    "tf.exp(x)\n",
    "\n",
    "tf.sqrt(x)\n",
    "\n",
    "tf.div(x,y)\n",
    "\n",
    "tf.truediv(x,y) - same as tf.div, except casts the arguments as a float\n",
    "\n",
    "tf.floordiv(x,y) - same as treudiv, except rounds down the final answer into an integer\n",
    "\n",
    "tf.mod(x,y) - element-wise remainder from division"
   ]
  },
  {
   "cell_type": "code",
   "execution_count": 23,
   "metadata": {},
   "outputs": [],
   "source": [
    "# TODO：產生高斯分佈\n",
    "\n"
   ]
  },
  {
   "cell_type": "markdown",
   "metadata": {},
   "source": [
    "### 使用 Session(s) 執行 operators\n",
    "\n",
    "* 每個 Tensor 物件有自己的 eval() function 可以使用"
   ]
  },
  {
   "cell_type": "code",
   "execution_count": 25,
   "metadata": {},
   "outputs": [
    {
     "name": "stdout",
     "output_type": "stream",
     "text": [
      "[[-1. -2.]]\n",
      "[[-1. -2.]]\n"
     ]
    }
   ],
   "source": [
    "x = tf.constant([[1., 2.]])\n",
    "negMatrix = tf.negative(x)\n",
    "\n",
    "# [I]\n",
    "with tf.Session() as sess:\n",
    "    print(sess.run(negMatrix))\n",
    "\n",
    "# [II]\n",
    "sess = tf.InteractiveSession()\n",
    "print(negMatrix.eval())\n",
    "sess.close()"
   ]
  },
  {
   "cell_type": "markdown",
   "metadata": {},
   "source": [
    "### Graph (略，請參考官網)\n",
    "### Setting session configurations"
   ]
  },
  {
   "cell_type": "code",
   "execution_count": 29,
   "metadata": {},
   "outputs": [
    {
     "name": "stdout",
     "output_type": "stream",
     "text": [
      "[[-1. -2.]]\n"
     ]
    }
   ],
   "source": [
    "with tf.Session(config=tf.ConfigProto(log_device_placement=True)) as sess:\n",
    "    rst = sess.run(negMatrix)\n",
    "\n",
    "print(rst)"
   ]
  },
  {
   "cell_type": "markdown",
   "metadata": {},
   "source": [
    "### 三種類型的數值\n",
    "Placeholder - 須等 session 執行時，才會被初始化指定值\n",
    "\n",
    "Variable - 可變變數，必須等 session 初始化它後，才能使用。要更新變數，需使用 tf.assign()\n",
    "\n",
    "Constant - 不可變"
   ]
  },
  {
   "cell_type": "code",
   "execution_count": 30,
   "metadata": {},
   "outputs": [],
   "source": [
    "sess = tf.InteractiveSession()"
   ]
  },
  {
   "cell_type": "code",
   "execution_count": 31,
   "metadata": {},
   "outputs": [
    {
     "name": "stdout",
     "output_type": "stream",
     "text": [
      "Spike False\n",
      "Spike True\n",
      "Spike False\n",
      "Spike False\n",
      "Spike True\n",
      "Spike False\n",
      "Spike True\n"
     ]
    }
   ],
   "source": [
    "rdata = [1., 2., 8., -1., 0., 5.5, 6., 13]\n",
    "spike = tf.Variable(False)\n",
    "spike.initializer.run()\n",
    "\n",
    "for i in range(1, len(rdata)):\n",
    "    if rdata[i] - rdata[i-1] > 5:\n",
    "        updater = tf.assign(spike, True)\n",
    "        updater.eval()\n",
    "    else:\n",
    "        tf.assign(spike, False).eval()\n",
    "    print(\"Spike\", spike.eval())"
   ]
  },
  {
   "cell_type": "code",
   "execution_count": 32,
   "metadata": {},
   "outputs": [],
   "source": [
    "sess.close()"
   ]
  },
  {
   "cell_type": "markdown",
   "metadata": {},
   "source": [
    "### Save/Load variable"
   ]
  },
  {
   "cell_type": "code",
   "execution_count": 33,
   "metadata": {},
   "outputs": [],
   "source": [
    "sess = tf.InteractiveSession()\n",
    "\n",
    "rdata = [1., 2., 8., -1., 0., 5.5, 6., 13]\n",
    "spike = tf.Variable(False)\n",
    "spike.initializer.run()"
   ]
  },
  {
   "cell_type": "code",
   "execution_count": 34,
   "metadata": {},
   "outputs": [],
   "source": [
    "# saver = tf.train.Saver()\n",
    "\n",
    "# Load it back\n",
    "# saver.restore(sess, \"./spikes.ckpt\")\n",
    "# print(spiles.eval())"
   ]
  },
  {
   "cell_type": "code",
   "execution_count": 35,
   "metadata": {},
   "outputs": [
    {
     "name": "stdout",
     "output_type": "stream",
     "text": [
      "Spike False\n",
      "Spike True\n",
      "Spike False\n",
      "Spike False\n",
      "Spike True\n",
      "Spike False\n",
      "Spike True\n"
     ]
    }
   ],
   "source": [
    "for i in range(1, len(rdata)):\n",
    "    if rdata[i] - rdata[i-1] > 5:\n",
    "        updater = tf.assign(spike, True)\n",
    "        updater.eval()\n",
    "    else:\n",
    "        tf.assign(spike, False).eval()\n",
    "    print(\"Spike\", spike.eval())"
   ]
  },
  {
   "cell_type": "code",
   "execution_count": 45,
   "metadata": {},
   "outputs": [],
   "source": [
    "# FIXIT: cannot save the .ckpt\n",
    "\n",
    "# save_path = saver.save(sess, 'spikes.ckpt')\n",
    "# print(\"Data saved in the file: %s\" % save_path)\n",
    "\n",
    "sess.close()"
   ]
  },
  {
   "cell_type": "markdown",
   "metadata": {},
   "source": [
    "### TensorBoard (略，請參考官網)"
   ]
  }
 ],
 "metadata": {
  "kernelspec": {
   "display_name": "Python 3",
   "language": "python",
   "name": "python3"
  },
  "language_info": {
   "codemirror_mode": {
    "name": "ipython",
    "version": 3
   },
   "file_extension": ".py",
   "mimetype": "text/x-python",
   "name": "python",
   "nbconvert_exporter": "python",
   "pygments_lexer": "ipython3",
   "version": "3.6.3"
  }
 },
 "nbformat": 4,
 "nbformat_minor": 2
}
