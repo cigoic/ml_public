{
 "cells": [
  {
   "cell_type": "code",
   "execution_count": 1,
   "metadata": {},
   "outputs": [],
   "source": [
    "# Basics of Machine Learning"
   ]
  },
  {
   "cell_type": "markdown",
   "metadata": {},
   "source": [
    "## 如何從問題 --> 轉變至機器學習模型？\n",
    "\n",
    "Learning Approach:\n",
    "\n",
    "    資料 -> 定義問題 -> 提取特徵向量 -> 演算法 -> 模型\n",
    "    \n",
    "Inference State:\n",
    "    \n",
    "    測試資料 -> 特徵向量 -> 模型 -> 預測"
   ]
  },
  {
   "cell_type": "markdown",
   "metadata": {},
   "source": [
    "## Data Representation and Features\n",
    "\n",
    "**Vectors** - 包括兩種屬性：維度(dimension), 類型(type)\n",
    "\n",
    "**Matrix** - a vector of vectors.\n",
    "\n",
    "**Graphs** - a collection of objects(nodes) that can be linked together w/ **edges** to represent a network"
   ]
  },
  {
   "cell_type": "markdown",
   "metadata": {},
   "source": [
    "## 如何挑選好的特徵?\n",
    "\n",
    "Q: 偵測圖片中的車輛\n",
    "    \n",
    "Step 1. 轉為灰階，降低運算負載\n",
    "Step 2. 灰階影像讓演算法可以專注學習圖片的形狀(shapes)、紋路(textures)\n",
    "Step 3. 「巨量資料」對於機器學習演算法並不總是有益的，效能可能受影響。\n",
    "Step 4. 留意特徵向量的維度不可過大！(Curse of dimensionality)\n",
    "\n",
    "Q: 設計折衣服的機器手臂，如何衡量衣服的「有效特徵」？\n",
    "\n",
    "Ans: \n",
    "\n",
    "**Good:** width, height, x-symmetry score, y-ssymmetry score, flatness\n",
    "\n",
    "**Bad:** color, cloth texture, material\n",
    "\n",
    "\n",
    "Q: 圖片裡的檯燈、長褲、小狗，什麼是有效特徵來區分這三者？\n",
    "\n",
    "Ans: \n",
    "\n",
    "**Good:** \n",
    "\n",
    "1. {brightness, reflection} 區分檯燈\n",
    "2. {shape of pants} 區分長褲\n",
    "3. {texture} 區分狗\n"
   ]
  },
  {
   "cell_type": "markdown",
   "metadata": {},
   "source": [
    "## 如何衡量特徵間的相似度？\n",
    "\n",
    "Ans: Distance metrics\n",
    "    \n",
    "###### L0, L1, L2 norm\n",
    "\n",
    "**L2 norm:** = Euclidian distance = ||x-y||\n",
    "\n",
    "**L0 norm:** counts the total number of nonzero elements of a vector\n",
    "\n",
    "**L1 norm:** = Manhattan distance = ∑|x_n| = distance between two vectors is along the orthogonal directions\n",
    "\n",
    "###### Q: 何時選用 L2 norm 之外的度量單位?\n",
    "\n",
    "情境1: 每個月不讓使用者看到超過五筆不正確的搜尋紀錄\n",
    "==> L-infinity norm of this vector (12-D) must be less than 5.\n",
    "\n",
    "情境2: 每年少於五筆不正確的資料可以讓使用者看到\n",
    "==> L1 norm <=5. The sum of all errors in the entire space should be less than 5."
   ]
  },
  {
   "cell_type": "markdown",
   "metadata": {},
   "source": [
    "## Types of learning\n",
    "\n",
    "### === Supervised LRN ===\n",
    "All about learning from examples laid out by a supervisor.\n",
    "\n",
    "**labeled data**\n",
    "\n",
    "**model** - a useful understanding\n",
    "\n",
    "**training dataset** - a collection of labeled examples\n",
    "\n",
    "**the ground truth of x** = corresponding label associated with x is f(x) = y\n",
    "\n",
    "**a regressor** - If y=f(x) can result in many values which have a natural ordering, this model is a refressor.\n",
    "\n",
    "**g(x|𝛉)** - the success of a model's prediction. Depend on how well it agrees with the fround truth y.\n",
    "\n",
    "**the cost** - 兩個向量：the ground truth 和 g(x|𝛉) 之間的距離\n",
    "\n",
    "此演算法主要是要計算一個 𝛉* (Theta star) 讓所有的資料點 x ∈ X 間 cost 最小. 這個搜尋最小參數過程使用的方法，我們稱做 \n",
    "\n",
    "**gradient descent**, \n",
    "\n",
    "**simulated annealing**, \n",
    "\n",
    "**genetic algorithms**"
   ]
  },
  {
   "cell_type": "markdown",
   "metadata": {},
   "source": [
    "### === Unsupervised LRN ===\n",
    "\n",
    "Clustering - like classification of data without knowing any labels.\n",
    "\n",
    "k-means - the E-M algorithm, one of the most popular clustering algorithms.\n",
    "\n",
    "Dimensionality reduction\n",
    "    - principle component analysis (PCA)\n",
    "    - autoencoders\n",
    "\n",
    "### === Reinforcement LRN ===\n",
    "\n",
    "「環境」當老師，提供「提示」。系統收到「動作」的回饋。\n",
    "\n",
    "RL trains on information gathered by observing how the environment reacts to actions.\n",
    "\n",
    "**States** - each state yields a corresponding **reward**. The total reward of each called **the value of a state.**\n",
    "\n",
    "**Actions**\n",
    "\n",
    "The agent's goal is to find a sequence of actions that MAXIMIZES rewards."
   ]
  },
  {
   "cell_type": "markdown",
   "metadata": {},
   "source": [
    "# Real-world problems\n",
    "\n",
    "|Problem|Solution|\n",
    "|---|---|\n",
    "|Predicting trends, fitting a curve to data points, describing relationships between variables. | Linear Regression |\n",
    "|Classifying data into two categories, finding the best way to split a dataset | Logistic Regression |\n",
    "| Classifying data into multiple categories | Softmax Regression |\n",
    "| Revealing hidden causes of observations, finding the most likely hidden reason for a series of outcomes | Hidden Markov model(Viterbi) |\n",
    "| Clustering data into a fixed number of categories, automatically partitioning data points into separate classes | K-means |\n",
    "|Clustering data into arbitrary categories, visualizing high-dimensional data into a lower-dimensional embedding | Self-organizing map |"
   ]
  },
  {
   "cell_type": "markdown",
   "metadata": {},
   "source": [
    "|Problem|Solution|\n",
    "|---|---|\n",
    "|Reducing dimensionality of data, learning latent variables responsible for high-dimensional data| Autoencoder|\n",
    "|Planning actions in an environment using neural networks (reinforcement learning)|Q-policy NN|\n",
    "|Classifying data using supervised neural networks|Perceptron|\n",
    "|Classifying real-world images using supervised neural networks|CNN|\n",
    "|Producing patterns that match observations using neural networks|RNN|\n",
    "|Predicting natural language responses to natural language queries| Seq2seq model|\n",
    "|Learning to rank items by learning their utility| Ranking|"
   ]
  },
  {
   "cell_type": "code",
   "execution_count": null,
   "metadata": {},
   "outputs": [],
   "source": []
  },
  {
   "cell_type": "code",
   "execution_count": null,
   "metadata": {},
   "outputs": [],
   "source": []
  },
  {
   "cell_type": "code",
   "execution_count": null,
   "metadata": {},
   "outputs": [],
   "source": []
  },
  {
   "cell_type": "code",
   "execution_count": null,
   "metadata": {},
   "outputs": [],
   "source": []
  },
  {
   "cell_type": "code",
   "execution_count": null,
   "metadata": {},
   "outputs": [],
   "source": []
  },
  {
   "cell_type": "code",
   "execution_count": null,
   "metadata": {},
   "outputs": [],
   "source": []
  },
  {
   "cell_type": "code",
   "execution_count": null,
   "metadata": {},
   "outputs": [],
   "source": []
  },
  {
   "cell_type": "code",
   "execution_count": null,
   "metadata": {},
   "outputs": [],
   "source": []
  },
  {
   "cell_type": "code",
   "execution_count": null,
   "metadata": {},
   "outputs": [],
   "source": []
  },
  {
   "cell_type": "code",
   "execution_count": null,
   "metadata": {},
   "outputs": [],
   "source": []
  }
 ],
 "metadata": {
  "kernelspec": {
   "display_name": "Python 3",
   "language": "python",
   "name": "python3"
  },
  "language_info": {
   "codemirror_mode": {
    "name": "ipython",
    "version": 3
   },
   "file_extension": ".py",
   "mimetype": "text/x-python",
   "name": "python",
   "nbconvert_exporter": "python",
   "pygments_lexer": "ipython3",
   "version": "3.6.3"
  }
 },
 "nbformat": 4,
 "nbformat_minor": 2
}
